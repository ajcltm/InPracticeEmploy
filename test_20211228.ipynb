{
 "cells": [
  {
   "cell_type": "code",
   "execution_count": 3,
   "metadata": {},
   "outputs": [],
   "source": [
    "import employeeList\n",
    "from pathlib import Path\n",
    "import pandas as pd\n",
    "from datetime import datetime"
   ]
  },
  {
   "cell_type": "code",
   "execution_count": 4,
   "metadata": {},
   "outputs": [
    {
     "name": "stdout",
     "output_type": "stream",
     "text": [
      "==================================================\n",
      "입사처리 {'사번': 202110001, '사원': '우도은', '생년월일': None, '부서': '농어촌기금운영부', '직급': '파견5급', '현직급근무일': Timestamp('2021-10-05 00:00:00'), '직책': nan, '입사일': Timestamp('2021-10-05 00:00:00'), '퇴사일': None, '사원구분': '파견직_내부', '상태': '정상근무'}\n",
      "trackSpace updated : [{Timestamp('2021-10-05 00:00:00'): Dataclass(id=202110001, name='우도은', birth=None, team='농어촌기금운영부', position='파견5급', positionDate=Timestamp('2021-10-05 00:00:00'), leader=nan, joinDate=Timestamp('2021-10-05 00:00:00'), quitDate=None, kindOfContract='파견직_내부', currentState='정상근무', teamLeader='오완진', centerLeader='조태용')}]\n",
      "==================================================\n",
      "입사처리 {'사번': 202110002, '사원': '김성웅', '생년월일': None, '부서': '경영지원부', '직급': '파견5급', '현직급근무일': Timestamp('2021-10-06 00:00:00'), '직책': nan, '입사일': Timestamp('2021-10-06 00:00:00'), '퇴사일': None, '사원구분': '파견직_내부', '상태': '정상근무'}\n",
      "trackSpace updated : [{Timestamp('2021-10-06 00:00:00'): Dataclass(id=202110002, name='김성웅', birth=None, team='경영지원부', position='파견5급', positionDate=Timestamp('2021-10-06 00:00:00'), leader=nan, joinDate=Timestamp('2021-10-06 00:00:00'), quitDate=None, kindOfContract='파견직_내부', currentState='정상근무', teamLeader='이승훈', centerLeader='국신욱')}]\n",
      "==================================================\n",
      "휴직처리 {'사번': 201204002, '사원': '김화영', '생년월일': Timestamp('1979-08-28 00:00:00'), '부서': '기획조정본부', '직급': '3급', '현직급근무일': Timestamp('2017-04-06 00:00:00'), '직책': nan, '입사일': Timestamp('2012-04-16 00:00:00'), '퇴사일': nan, '사원구분': '일반직', '상태': '휴직'}\n",
      "trackSpace updated : [{datetime.datetime(2021, 1, 1, 0, 0): Dataclass(id=201204002, name='김화영', birth=Timestamp('1979-08-28 00:00:00'), team='판로지원부', position='3급', positionDate=Timestamp('2017-04-06 00:00:00'), leader=nan, joinDate=Timestamp('2012-04-16 00:00:00'), quitDate=nan, kindOfContract='일반직', currentState='정상근무', teamLeader='정재인', centerLeader='이영숙')}, {Timestamp('2021-10-12 00:00:00'): Dataclass(id=201204002, name='김화영', birth=Timestamp('1979-08-28 00:00:00'), team='기획조정본부', position='3급', positionDate=Timestamp('2017-04-06 00:00:00'), leader=nan, joinDate=Timestamp('2012-04-16 00:00:00'), quitDate=nan, kindOfContract='일반직', currentState='휴직', teamLeader='국신욱', centerLeader='김순철')}]\n",
      "==================================================\n",
      "발령처리 {'사번': 201105004, '사원': '최연자', '생년월일': Timestamp('1978-09-01 00:00:00'), '부서': '농어촌기금관리부', '직급': '3급', '현직급근무일': Timestamp('2021-05-10 00:00:00'), '직책': nan, '입사일': Timestamp('2011-05-16 00:00:00'), '퇴사일': nan, '사원구분': '일반직', '상태': '정상근무'}\n",
      "trackSpace updated : [{datetime.datetime(2021, 1, 1, 0, 0): Dataclass(id=201105004, name='최연자', birth=Timestamp('1978-09-01 00:00:00'), team='농어촌기금운영부', position='3급', positionDate=Timestamp('2021-05-10 00:00:00'), leader=nan, joinDate=Timestamp('2011-05-16 00:00:00'), quitDate=nan, kindOfContract='일반직', currentState='정상근무', teamLeader='오완진', centerLeader='조태용')}, {Timestamp('2021-10-18 00:00:00'): Dataclass(id=201105004, name='최연자', birth=Timestamp('1978-09-01 00:00:00'), team='농어촌기금관리부', position='3급', positionDate=Timestamp('2021-05-10 00:00:00'), leader=nan, joinDate=Timestamp('2011-05-16 00:00:00'), quitDate=nan, kindOfContract='일반직', currentState='정상근무', teamLeader='정승묵', centerLeader='조태용')}]\n",
      "==================================================\n",
      "입사처리 {'사번': 202110003, '사원': '김수연', '생년월일': None, '부서': '기술임치운영부', '직급': '파견5급', '현직급근무일': Timestamp('2021-10-18 00:00:00'), '직책': nan, '입사일': Timestamp('2021-10-18 00:00:00'), '퇴사일': None, '사원구분': '파견직_내부', '상태': '정상근무'}\n",
      "trackSpace updated : [{Timestamp('2021-10-18 00:00:00'): Dataclass(id=202110003, name='김수연', birth=None, team='기술임치운영부', position='파견5급', positionDate=Timestamp('2021-10-18 00:00:00'), leader=nan, joinDate=Timestamp('2021-10-18 00:00:00'), quitDate=None, kindOfContract='파견직_내부', currentState='정상근무', teamLeader='엄인혜', centerLeader='이구익')}]\n",
      "==================================================\n",
      "발령처리 {'사번': 201503014, '사원': '오인영', '생년월일': Timestamp('1989-01-10 00:00:00'), '부서': '기술임치운영부', '직급': '4급', '현직급근무일': Timestamp('2021-05-10 00:00:00'), '직책': nan, '입사일': Timestamp('2015-03-19 00:00:00'), '퇴사일': nan, '사원구분': '일반직', '상태': '정상근무'}\n",
      "trackSpace updated : [{datetime.datetime(2021, 1, 1, 0, 0): Dataclass(id=201503014, name='오인영', birth=Timestamp('1989-01-10 00:00:00'), team='상생결제운영부', position='4급', positionDate=Timestamp('2021-05-10 00:00:00'), leader=nan, joinDate=Timestamp('2015-03-19 00:00:00'), quitDate=nan, kindOfContract='일반직', currentState='정상근무', teamLeader='심형택', centerLeader='이구익')}, {Timestamp('2021-10-19 00:00:00'): Dataclass(id=201503014, name='오인영', birth=Timestamp('1989-01-10 00:00:00'), team='기술임치운영부', position='4급', positionDate=Timestamp('2021-05-10 00:00:00'), leader=nan, joinDate=Timestamp('2015-03-19 00:00:00'), quitDate=nan, kindOfContract='일반직', currentState='정상근무', teamLeader='엄인혜', centerLeader='이구익')}]\n",
      "==================================================\n",
      "발령처리 {'사번': 202105005, '사원': '문희주', '생년월일': Timestamp('1995-06-09 00:00:00'), '부서': '기술임치운영부', '직급': '5급', '현직급근무일': Timestamp('2021-05-20 00:00:00'), '직책': nan, '입사일': Timestamp('2021-05-20 00:00:00'), '퇴사일': nan, '사원구분': '일반직', '상태': '정상근무'}\n",
      "trackSpace updated : [{datetime.datetime(2021, 1, 1, 0, 0): Dataclass(id=202105005, name='문희주', birth=Timestamp('1995-06-09 00:00:00'), team='상생결제운영부', position='5급', positionDate=Timestamp('2021-05-20 00:00:00'), leader=nan, joinDate=Timestamp('2021-05-20 00:00:00'), quitDate=nan, kindOfContract='일반직', currentState='정상근무', teamLeader='심형택', centerLeader='이구익')}, {Timestamp('2021-10-19 00:00:00'): Dataclass(id=202105005, name='문희주', birth=Timestamp('1995-06-09 00:00:00'), team='기술임치운영부', position='5급', positionDate=Timestamp('2021-05-20 00:00:00'), leader=nan, joinDate=Timestamp('2021-05-20 00:00:00'), quitDate=nan, kindOfContract='일반직', currentState='정상근무', teamLeader='엄인혜', centerLeader='이구익')}]\n",
      "==================================================\n",
      "입사처리 {'사번': 202111002, '사원': '김보람', '생년월일': None, '부서': '농어촌기금관리부', '직급': '파견5급', '현직급근무일': Timestamp('2021-11-01 00:00:00'), '직책': nan, '입사일': Timestamp('2021-11-01 00:00:00'), '퇴사일': None, '사원구분': '파견직_내부', '상태': '정상근무'}\n",
      "trackSpace updated : [{Timestamp('2021-11-01 00:00:00'): Dataclass(id=202111002, name='김보람', birth=None, team='농어촌기금관리부', position='파견5급', positionDate=Timestamp('2021-11-01 00:00:00'), leader=nan, joinDate=Timestamp('2021-11-01 00:00:00'), quitDate=None, kindOfContract='파견직_내부', currentState='정상근무', teamLeader='정승묵', centerLeader='조태용')}]\n",
      "==================================================\n",
      "입사처리 {'사번': 202111001, '사원': '김성현', '생년월일': None, '부서': '상생조정지원부', '직급': '파견5급', '현직급근무일': Timestamp('2021-11-01 00:00:00'), '직책': nan, '입사일': Timestamp('2021-11-01 00:00:00'), '퇴사일': None, '사원구분': '파견직_내부', '상태': '정상근무'}\n",
      "trackSpace updated : [{Timestamp('2021-11-01 00:00:00'): Dataclass(id=202111001, name='김성현', birth=None, team='상생조정지원부', position='파견5급', positionDate=Timestamp('2021-11-01 00:00:00'), leader=nan, joinDate=Timestamp('2021-11-01 00:00:00'), quitDate=None, kindOfContract='파견직_내부', currentState='정상근무', teamLeader='윤형수', centerLeader='이구익')}]\n",
      "==================================================\n",
      "휴직처리 {'사번': 201505003, '사원': '전선희', '생년월일': Timestamp('1987-08-15 00:00:00'), '부서': '기획조정본부', '직급': '5급', '현직급근무일': Timestamp('2015-05-11 00:00:00'), '직책': nan, '입사일': Timestamp('2015-05-11 00:00:00'), '퇴사일': nan, '사원구분': '일반직', '상태': '휴직'}\n",
      "trackSpace updated : [{datetime.datetime(2021, 1, 1, 0, 0): Dataclass(id=201505003, name='전선희', birth=Timestamp('1987-08-15 00:00:00'), team='농어촌기금관리부', position='5급', positionDate=Timestamp('2015-05-11 00:00:00'), leader=nan, joinDate=Timestamp('2015-05-11 00:00:00'), quitDate=nan, kindOfContract='일반직', currentState='정상근무', teamLeader='정승묵', centerLeader='조태용')}, {Timestamp('2021-11-01 00:00:00'): Dataclass(id=201505003, name='전선희', birth=Timestamp('1987-08-15 00:00:00'), team='기획조정본부', position='5급', positionDate=Timestamp('2015-05-11 00:00:00'), leader=nan, joinDate=Timestamp('2015-05-11 00:00:00'), quitDate=nan, kindOfContract='일반직', currentState='휴직', teamLeader='국신욱', centerLeader='김순철')}]\n",
      "==================================================\n",
      "퇴사처리 {'사번': 202103007, '사원': '이은비', '생년월일': Timestamp('1994-03-22 00:00:00'), '부서': '상생기금부', '직급': '파견5급', '현직급근무일': Timestamp('2021-03-08 00:00:00'), '직책': nan, '입사일': Timestamp('2021-03-08 00:00:00'), '퇴사일': Timestamp('2021-11-05 00:00:00'), '사원구분': '파견직_내부', '상태': '퇴직'}\n",
      "trackSpace updated : [{datetime.datetime(2021, 1, 1, 0, 0): Dataclass(id=202103007, name='이은비', birth=Timestamp('1994-03-22 00:00:00'), team='상생기금부', position='파견5급', positionDate=Timestamp('2021-03-08 00:00:00'), leader=nan, joinDate=Timestamp('2021-03-08 00:00:00'), quitDate=nan, kindOfContract='파견직_내부', currentState='정상근무', teamLeader='김도환', centerLeader='국신욱')}, {Timestamp('2021-11-05 00:00:00'): Dataclass(id=202103007, name='이은비', birth=Timestamp('1994-03-22 00:00:00'), team='상생기금부', position='파견5급', positionDate=Timestamp('2021-03-08 00:00:00'), leader=nan, joinDate=Timestamp('2021-03-08 00:00:00'), quitDate=Timestamp('2021-11-05 00:00:00'), kindOfContract='파견직_내부', currentState='퇴직', teamLeader='김도환', centerLeader='국신욱')}]\n",
      "==================================================\n",
      "입사처리 {'사번': 202111003, '사원': '김혜원', '생년월일': None, '부서': '농어촌기금관리부', '직급': '파견5급', '현직급근무일': Timestamp('2021-11-08 00:00:00'), '직책': nan, '입사일': Timestamp('2021-11-08 00:00:00'), '퇴사일': None, '사원구분': '파견직_내부', '상태': '정상근무'}\n",
      "trackSpace updated : [{Timestamp('2021-11-08 00:00:00'): Dataclass(id=202111003, name='김혜원', birth=None, team='농어촌기금관리부', position='파견5급', positionDate=Timestamp('2021-11-08 00:00:00'), leader=nan, joinDate=Timestamp('2021-11-08 00:00:00'), quitDate=None, kindOfContract='파견직_내부', currentState='정상근무', teamLeader='정승묵', centerLeader='조태용')}]\n",
      "==================================================\n",
      "발령처리 {'사번': 201209024, '사원': '최원호', '생년월일': Timestamp('1983-04-04 00:00:00'), '부서': '경영지원부', '직급': '4급', '현직급근무일': Timestamp('2019-05-21 00:00:00'), '직책': nan, '입사일': Timestamp('2012-09-13 00:00:00'), '퇴사일': nan, '사원구분': '일반직', '상태': '정상근무'}\n",
      "trackSpace updated : [{datetime.datetime(2021, 1, 1, 0, 0): Dataclass(id=201209024, name='최원호', birth=Timestamp('1983-04-04 00:00:00'), team='기술임치운영부', position='4급', positionDate=Timestamp('2019-05-21 00:00:00'), leader=nan, joinDate=Timestamp('2012-09-13 00:00:00'), quitDate=nan, kindOfContract='일반직', currentState='정상근무', teamLeader='엄인혜', centerLeader='이구익')}, {Timestamp('2021-11-12 00:00:00'): Dataclass(id=201209024, name='최원호', birth=Timestamp('1983-04-04 00:00:00'), team='경영지원부', position='4급', positionDate=Timestamp('2019-05-21 00:00:00'), leader=nan, joinDate=Timestamp('2012-09-13 00:00:00'), quitDate=nan, kindOfContract='일반직', currentState='정상근무', teamLeader='이승훈', centerLeader='국신욱')}]\n",
      "==================================================\n",
      "퇴사처리 {'사번': 201807013, '사원': '장수웅', '생년월일': Timestamp('1988-07-28 00:00:00'), '부서': '경영지원부', '직급': '5급', '현직급근무일': Timestamp('2018-07-16 00:00:00'), '직책': nan, '입사일': Timestamp('2018-07-16 00:00:00'), '퇴사일': Timestamp('2021-11-12 00:00:00'), '사원구분': '일반직', '상태': '퇴직'}\n",
      "trackSpace updated : [{datetime.datetime(2021, 1, 1, 0, 0): Dataclass(id=201807013, name='장수웅', birth=Timestamp('1988-07-28 00:00:00'), team='판로지원부', position='5급', positionDate=Timestamp('2018-07-16 00:00:00'), leader=nan, joinDate=Timestamp('2018-07-16 00:00:00'), quitDate=nan, kindOfContract='일반직', currentState='정상근무', teamLeader='정재인', centerLeader='이영숙')}, {Timestamp('2021-11-12 00:00:00'): Dataclass(id=201807013, name='장수웅', birth=Timestamp('1988-07-28 00:00:00'), team='경영지원부', position='5급', positionDate=Timestamp('2018-07-16 00:00:00'), leader=nan, joinDate=Timestamp('2018-07-16 00:00:00'), quitDate=Timestamp('2021-11-12 00:00:00'), kindOfContract='일반직', currentState='퇴직', teamLeader='이승훈', centerLeader='국신욱')}]\n",
      "==================================================\n",
      "퇴사처리 {'사번': 202101001, '사원': '박슬기', '생년월일': Timestamp('1992-07-18 00:00:00'), '부서': '상생결제운영부', '직급': '파견5급', '현직급근무일': Timestamp('2021-01-12 00:00:00'), '직책': nan, '입사일': Timestamp('2021-01-12 00:00:00'), '퇴사일': Timestamp('2021-11-15 00:00:00'), '사원구분': '파견직_내부', '상태': '퇴직'}\n",
      "trackSpace updated : [{datetime.datetime(2021, 1, 1, 0, 0): Dataclass(id=202101001, name='박슬기', birth=Timestamp('1992-07-18 00:00:00'), team='상생결제운영부', position='파견5급', positionDate=Timestamp('2021-01-12 00:00:00'), leader=nan, joinDate=Timestamp('2021-01-12 00:00:00'), quitDate=nan, kindOfContract='파견직_내부', currentState='정상근무', teamLeader='심형택', centerLeader='이구익')}, {Timestamp('2021-11-15 00:00:00'): Dataclass(id=202101001, name='박슬기', birth=Timestamp('1992-07-18 00:00:00'), team='상생결제운영부', position='파견5급', positionDate=Timestamp('2021-01-12 00:00:00'), leader=nan, joinDate=Timestamp('2021-01-12 00:00:00'), quitDate=Timestamp('2021-11-15 00:00:00'), kindOfContract='파견직_내부', currentState='퇴직', teamLeader='심형택', centerLeader='이구익')}]\n",
      "==================================================\n",
      "퇴사처리 {'사번': 201310004, '사원': '김희석', '생년월일': Timestamp('1987-02-09 00:00:00'), '부서': '농어촌기금관리부', '직급': '4급', '현직급근무일': Timestamp('2019-05-21 00:00:00'), '직책': nan, '입사일': Timestamp('2013-10-07 00:00:00'), '퇴사일': Timestamp('2021-11-24 00:00:00'), '사원구분': '일반직', '상태': '퇴직'}\n",
      "trackSpace updated : [{datetime.datetime(2021, 1, 1, 0, 0): Dataclass(id=201310004, name='김희석', birth=Timestamp('1987-02-09 00:00:00'), team='농어촌기금관리부', position='4급', positionDate=Timestamp('2019-05-21 00:00:00'), leader=nan, joinDate=Timestamp('2013-10-07 00:00:00'), quitDate=nan, kindOfContract='일반직', currentState='정상근무', teamLeader='정승묵', centerLeader='조태용')}, {Timestamp('2021-11-24 00:00:00'): Dataclass(id=201310004, name='김희석', birth=Timestamp('1987-02-09 00:00:00'), team='농어촌기금관리부', position='4급', positionDate=Timestamp('2019-05-21 00:00:00'), leader=nan, joinDate=Timestamp('2013-10-07 00:00:00'), quitDate=Timestamp('2021-11-24 00:00:00'), kindOfContract='일반직', currentState='퇴직', teamLeader='정승묵', centerLeader='조태용')}]\n",
      "==================================================\n",
      "입사처리 {'사번': 202112001, '사원': '김아름', '생년월일': None, '부서': '농어촌기금관리부', '직급': '5급', '현직급근무일': Timestamp('2021-12-06 00:00:00'), '직책': nan, '입사일': Timestamp('2021-12-06 00:00:00'), '퇴사일': None, '사원구분': '계약직', '상태': '정상근무'}\n",
      "trackSpace updated : [{Timestamp('2021-12-06 00:00:00'): Dataclass(id=202112001, name='김아름', birth=None, team='농어촌기금관리부', position='5급', positionDate=Timestamp('2021-12-06 00:00:00'), leader=nan, joinDate=Timestamp('2021-12-06 00:00:00'), quitDate=None, kindOfContract='계약직', currentState='정상근무', teamLeader='정승묵', centerLeader='조태용')}]\n"
     ]
    }
   ],
   "source": [
    "dirPath = Path.home().joinpath('Desktop', '직원현황작업폴더', '202109071632')\n",
    "fileName = '20210914_110909_사원명부.csv'\n",
    "path = dirPath / fileName\n",
    "firstDf = pd.read_csv(path, encoding = 'cp949')\n",
    "dirPath2 = Path.home().joinpath('Desktop')\n",
    "fileName2 = '발령일괄등록.csv'\n",
    "path2 = dirPath2 / fileName2\n",
    "orderDf = pd.read_csv(path2, encoding='utf-8')\n",
    "\n",
    "\n",
    "firstDf = employeeList.ListPreprocessor(firstDf).operation()\n",
    "lt = employeeList.ListTransformer(firstDf)\n",
    "firstDic = lt.transferDict()    # get firstDic\n",
    "\n",
    "start = datetime(2021,10,1)\n",
    "\n",
    "orderDf = employeeList.OrderPreprocessor(orderDf).operation()\n",
    "orderDf = employeeList.OrderFilter(orderDf).filter(start)\n",
    "orderDf = orderDf.sort_values(by='발령일', ascending=True)\n",
    "orderDic = employeeList.orderTransformer(orderDf).transferDict()     # get orderDic\n",
    "\n",
    "firstDate = datetime(2021,1,1)\n",
    "\n",
    "order = orderDic[0]\n",
    "id = order.get('사번')\n",
    "name = order.get('사원')\n",
    "\n",
    "tracker = employeeList.Tracker(firstDate, firstDic, orderDic)\n",
    "\n",
    "tracker.update_trackSpace()\n",
    "currentDics = tracker.currentDic\n",
    "currentDicsDataclassDics = tracker.create_dataclass(currentDics)"
   ]
  },
  {
   "cell_type": "code",
   "execution_count": 24,
   "metadata": {},
   "outputs": [],
   "source": [
    "trackSpace = tracker.trackSpace\n",
    "dfs = []\n",
    "for key in trackSpace.keys():\n",
    "    for dict in trackSpace[key]:\n",
    "        dataclass = dict.values()\n",
    "        df = pd.DataFrame(dataclass, index=[list(dict.keys())[0].strftime(format='%Y-%m-%d')])\n",
    "        dfs.append(df)"
   ]
  },
  {
   "cell_type": "code",
   "execution_count": 27,
   "metadata": {},
   "outputs": [],
   "source": [
    "trackSpaceDf = pd.concat(dfs)\n",
    "\n",
    "cols = ['사번', '사원', '생년월일', '부서', '직급', '현직급근무일', '직책', '입사일', '퇴사일', '사원구분', '상태', '부서장(팀장)', '본부장']\n",
    "trackSpaceDf.columns = cols\n",
    "trackSpaceDf.to_csv(dirPath2 / 'trackSpaceDf.csv', encoding='cp949')"
   ]
  }
 ],
 "metadata": {
  "interpreter": {
   "hash": "402f732f45210a8f3cf204d18ac474bcfde6f1d7d558ffc6d28a7b91f39123e2"
  },
  "kernelspec": {
   "display_name": "Python 3.8.6 64-bit ('pythonProject': venv)",
   "language": "python",
   "name": "python3"
  },
  "language_info": {
   "codemirror_mode": {
    "name": "ipython",
    "version": 3
   },
   "file_extension": ".py",
   "mimetype": "text/x-python",
   "name": "python",
   "nbconvert_exporter": "python",
   "pygments_lexer": "ipython3",
   "version": "3.8.6"
  },
  "orig_nbformat": 4
 },
 "nbformat": 4,
 "nbformat_minor": 2
}
