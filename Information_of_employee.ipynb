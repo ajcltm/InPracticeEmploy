{
 "cells": [
  {
   "cell_type": "code",
   "execution_count": 363,
   "id": "79138cf1",
   "metadata": {},
   "outputs": [],
   "source": [
    "import pandas as pd\n",
    "import datetime"
   ]
  },
  {
   "cell_type": "code",
   "execution_count": 364,
   "id": "2a13eaa8",
   "metadata": {},
   "outputs": [],
   "source": [
    "# set display \n",
    "pd.set_option('display.max.columns', 100)\n",
    "pd.set_option('display.max.rows', 1000)"
   ]
  },
  {
   "cell_type": "code",
   "execution_count": 365,
   "id": "8ddfa26a",
   "metadata": {
    "scrolled": true
   },
   "outputs": [],
   "source": [
    "# 파일 불러오기\n",
    "file = pd.read_csv('C:/Users/user/Desktop/직원 현황 테스트/210527_사원명부.csv', encoding='utf-8')"
   ]
  },
  {
   "cell_type": "code",
   "execution_count": 366,
   "id": "deb0de40",
   "metadata": {},
   "outputs": [],
   "source": [
    "# 필요한 컬럼명 정의\n",
    "arrColumns=['사원','사번', '주민등록번호M', '성별', '나이' ,'부서','직급', '직위', '직책', '사원구분', '입사일','현부서근무일', '현직급근무일', '현직책근무일',\n",
    "            '2015년 종합근무성적평가 결과', '2016년 종합근무성적평가 결과', '2017년 종합근무성적평가 결과','2018년 종합근무성적평가 결과','2019년 종합근무성적평가 결과','2020년 종합근무성적평가 결과']"
   ]
  },
  {
   "cell_type": "code",
   "execution_count": 367,
   "id": "cfcd3b25",
   "metadata": {
    "scrolled": true
   },
   "outputs": [],
   "source": [
    "# 필요한 컬럼만 필터\n",
    "df = file[arrColumns]\n",
    "# 아무런 정보도 없는 행 삭제\n",
    "df = df.loc[df['사원'].dropna().index]"
   ]
  },
  {
   "cell_type": "code",
   "execution_count": 368,
   "id": "f90cab1f",
   "metadata": {},
   "outputs": [],
   "source": [
    "# 발령내역 csv 파일 불러온 후 필요한 컬럼만 필터\n",
    "move_df = pd.read_csv('C:/Users/user/Desktop/직원 현황 테스트/210715_발령내역.csv', encoding='utf-8')\n",
    "col=['사원','사번','발령일','소속부서','직급','발령명', '비고']\n",
    "move_df = move_df[col]"
   ]
  },
  {
   "cell_type": "code",
   "execution_count": 369,
   "id": "e6f270d7",
   "metadata": {},
   "outputs": [],
   "source": [
    "# 발령이력 정리(인자는 df)\n",
    "def create_history(temp) :\n",
    "    # df를 역순으로 재배치\n",
    "    temp = temp[::-1]\n",
    "    # df의 인덱스 추출\n",
    "    temp_index = temp.index\n",
    "\n",
    "    elements = []\n",
    "    for k in temp_index :\n",
    "        # 각 발령 정보 추출\n",
    "        date = temp.loc[k, '발령일']\n",
    "        depart = temp.loc[k, '소속부서']\n",
    "        grade = temp.loc[k, '직급']\n",
    "        order_name = temp.loc[k, '발령명']\n",
    "        etc = temp.loc[k, '비고']\n",
    "        # 비고란에 내용 없으면 na값 대신 공백 처리\n",
    "        if pd.isna(etc):\n",
    "            etc = \"\"\n",
    "        # 한줄 메세지 생성하고 리스트에 저장\n",
    "        element = '{0}  {1} ({2})   {3}'.format(date, depart, grade, etc)\n",
    "        elements.append(element)\n",
    "    # 리스트에 모여있는 각 한줄 메세지들을 하나의 단락으로 병합\n",
    "    final = \"\\n\".join(elements)\n",
    "    return final"
   ]
  },
  {
   "cell_type": "code",
   "execution_count": 370,
   "id": "e50abb27",
   "metadata": {},
   "outputs": [],
   "source": [
    "historys = []\n",
    "# 사원명부에 있는 사원 별로 발령이력을 하나씩 생성\n",
    "for k in range(0, len(df)) :\n",
    "    name = df.loc[k, '사원']\n",
    "    temp = move_df[move_df['사원']==name]\n",
    "    history = create_history(temp)\n",
    "    historys.append(history)\n",
    "    \n",
    "# 마지막 결과물을 df에 발령일력 컬럼 생성\n",
    "df['주요 발령사항'] = historys"
   ]
  },
  {
   "cell_type": "code",
   "execution_count": 371,
   "id": "bf81df74",
   "metadata": {},
   "outputs": [],
   "source": [
    "# 근무성적과 관련된 컬럼 정의\n",
    "col_ = ['2015년 종합근무성적평가 결과', '2016년 종합근무성적평가 결과', '2017년 종합근무성적평가 결과','2018년 종합근무성적평가 결과','2019년 종합근무성적평가 결과','2020년 종합근무성적평가 결과']\n",
    "\n",
    "df.columns\n",
    "for c in col_ :\n",
    "    # 각 연도별 근무성적 컬럼이 비어 있거나 '0'으로 표기 되어 있으면 '-'표시로 변경\n",
    "    df[c].fillna(\"-\", inplace=True)\n",
    "    df[c]=df[c].apply(lambda x: \"-\" if x == '0' else x)\n",
    "\n",
    "# 각 연도별 근무성적 컬럼을 하나의 컬럼으로 병합(각 결과 사이는 줄바꿈)\n",
    "df['근무성적'] = '2015년 '+df['2015년 종합근무성적평가 결과']+\"\\n\"+'2016년 '+df['2016년 종합근무성적평가 결과']+\"\\n\"+'2017년 '+df['2017년 종합근무성적평가 결과']+\"\\n\"+'2018년 '+df['2018년 종합근무성적평가 결과']+\"\\n\"+'2019년 '+df['2019년 종합근무성적평가 결과']+\"\\n\"+'2020년 '+df['2020년 종합근무성적평가 결과']\n",
    "\n",
    "df = df.drop(col_, axis=1)"
   ]
  },
  {
   "cell_type": "code",
   "execution_count": 372,
   "id": "294e890a",
   "metadata": {},
   "outputs": [],
   "source": [
    "# 외부경력 파일 불러오고 필요한 컬럼만 필터\n",
    "# (주의사항) 외부경력에 특수기호 등이 있을 경우 나중에 csv로 저장하는 과정에서 인코딩 에러가 발생하기 때문에 전처리 필요\n",
    "career_df = pd.read_csv('C:/Users/user/Desktop/직원 현황 테스트/210715_외부경력.csv', encoding='utf-8')\n",
    "col=['사원','사번','직장명','입사일','퇴사일','기타담당업무']\n",
    "career_df = career_df[col]"
   ]
  },
  {
   "cell_type": "code",
   "execution_count": 373,
   "id": "a5858b34",
   "metadata": {},
   "outputs": [],
   "source": [
    "# 외부경력 정리(인자는 df)\n",
    "def create_career(temp) :\n",
    "    # df를 역순으로 재배치\n",
    "    temp = temp[::-1]\n",
    "    # df의 인덱스 추출\n",
    "    temp_index = temp.index\n",
    "\n",
    "    elements = []\n",
    "    for k in temp_index :\n",
    "        # 각 외부경력 정보 추출\n",
    "        s_date = temp.loc[k, '입사일']\n",
    "        e_date = temp.loc[k, '퇴사일']\n",
    "        firm = temp.loc[k, '직장명']\n",
    "        detail = temp.loc[k, '기타담당업무']\n",
    "        # 비고란에 내용 없으면 na값 대신 공백 처리\n",
    "        if pd.isna(detail):\n",
    "            detail = \"\"\n",
    "        # 한줄 메세지 생성하고 리스트에 저장\n",
    "        element = '{0} ~ {1}  ({2})  {3}'.format(s_date, e_date, firm, detail)\n",
    "        elements.append(element)\n",
    "    # 리스트에 모여있는 각 한줄 메세지들을 하나의 단락으로 병합\n",
    "    final = \"\\n\".join(elements)\n",
    "    return final"
   ]
  },
  {
   "cell_type": "code",
   "execution_count": 374,
   "id": "5da2a57c",
   "metadata": {},
   "outputs": [],
   "source": [
    "careers = [] \n",
    "# 사원명부에 있는 사원 별로 외부경력 이력을 하나씩 생성\n",
    "for k in range(0, len(df)) :\n",
    "    name = df.loc[k, '사원']\n",
    "    temp = career_df[career_df['사원']==name]\n",
    "    career = create_career(temp)\n",
    "    careers.append(career)\n",
    "# df에 외부경력 이력 삽입\n",
    "df['주요 외부경력'] = careers"
   ]
  },
  {
   "cell_type": "code",
   "execution_count": 375,
   "id": "d528cfbe",
   "metadata": {},
   "outputs": [],
   "source": [
    "# 학사정보 csv 파일 불러온 후 필요한 컬럼만 필터 \n",
    "# (주의) 학사정보 파일은 encoding='CP949'로 불러와야함\n",
    "accademic_df = pd.read_csv('C:/Users/user/Desktop/직원 현황 테스트/210716_학사정보.csv', encoding='CP949')\n",
    "col=['사원','사번','학교','전공학과','입학년월','졸업년월', '학위구분']\n",
    "accademic_df = accademic_df[col]"
   ]
  },
  {
   "cell_type": "code",
   "execution_count": 376,
   "id": "c6d824ac",
   "metadata": {},
   "outputs": [
    {
     "data": {
      "text/plain": [
       "array(['학사', '석사', '전문학사', '박사', '편입', '박사수료', '석사수료', '고졸', '대퇴', '중퇴'],\n",
       "      dtype=object)"
      ]
     },
     "execution_count": 376,
     "metadata": {},
     "output_type": "execute_result"
    }
   ],
   "source": [
    "accademic_df['order'] = accademic_df['학위구분']\n",
    "accademic_df['order'].unique()"
   ]
  },
  {
   "cell_type": "code",
   "execution_count": 377,
   "id": "4ce148bd",
   "metadata": {
    "scrolled": true
   },
   "outputs": [],
   "source": [
    "# 학사 순서 설정\n",
    "accademic_df['order']=accademic_df['order'].apply(lambda x : 1 if x=='고졸' else 2 if x=='중퇴' else 3 if  x=='대퇴' else 4 if  x=='전문학사' else 5 if  x=='편입' else 6 if  x=='학사' else 7 if  x=='석사수료' else 8 if  x=='석사' else 9 if  x=='박사수료' else 10)\n",
    "# 학사 순서대로 재배열\n",
    "accademic_df=accademic_df.sort_values(by='order')\n",
    "# create_accademic 안에서 인덱스 순서대로 for loop를 돌기 때문에 index를 reset함\n",
    "accademic_df=accademic_df.reset_index(drop=True)"
   ]
  },
  {
   "cell_type": "code",
   "execution_count": 378,
   "id": "b459dd4d",
   "metadata": {},
   "outputs": [],
   "source": [
    "# 외부경력 정리(인자는 df)\n",
    "def create_accademic(temp) :\n",
    "    # df를 역순으로 재배치\n",
    "#     temp = temp[::-1]\n",
    "    # df의 인덱스 추출\n",
    "    temp_index = temp.index\n",
    "\n",
    "    elements = []\n",
    "    for k in temp_index :\n",
    "        # 각 학사정보 추출\n",
    "        kind = temp.loc[k, '학위구분']\n",
    "        accademy = temp.loc[k, '학교']\n",
    "        major = temp.loc[k, '전공학과']\n",
    "        # 전공학과 내용 없으면 na값 대신 공백 처리\n",
    "        if pd.isna(major):\n",
    "            major = \"\"\n",
    "        # 한줄 메세지 생성하고 리스트에 저장\n",
    "        element = '({0})  {1}  {2}'.format(kind, accademy, major)\n",
    "        elements.append(element)\n",
    "    # 리스트에 모여있는 각 한줄 메세지들을 하나의 단락으로 병합\n",
    "    final = \"\\n\".join(elements)\n",
    "    return final"
   ]
  },
  {
   "cell_type": "code",
   "execution_count": 379,
   "id": "1ec61fd8",
   "metadata": {},
   "outputs": [],
   "source": [
    "accademics = [] \n",
    "# 사원명부에 있는 사원 별로 외부경력 이력을 하나씩 생성\n",
    "for k in range(0, len(df)) :\n",
    "    name = df.loc[k, '사원']\n",
    "    temp = accademic_df[accademic_df['사원']==name]\n",
    "    accademic = create_accademic(temp)\n",
    "    accademics.append(accademic)\n",
    "# df에 외부경력 이력 삽입\n",
    "df['학사 정보'] = accademics"
   ]
  },
  {
   "cell_type": "code",
   "execution_count": 380,
   "id": "4fb0b036",
   "metadata": {},
   "outputs": [],
   "source": [
    "# df 컬럼 순서 재배열\n",
    "df=df[['사원', '사번', '주민등록번호M', '성별', '나이', '부서', '직급', '직위', '직책', '사원구분',\n",
    "       '입사일', '현부서근무일', '현직급근무일', '현직책근무일', '주요 발령사항', '근무성적', '학사 정보', '주요 외부경력']]\n",
    "# df저장\n",
    "df.to_csv('C:/Users/user/Desktop/직원 현황 테스트/210715_인사종합정보.csv', encoding='cp949')"
   ]
  },
  {
   "cell_type": "code",
   "execution_count": 381,
   "id": "b62cb964",
   "metadata": {},
   "outputs": [],
   "source": [
    "def load_file_utf8(path, file_name) :\n",
    "    file = pd.read_csv('{0}/{1}.csv'.format(path, file_name), encoding='utf-8')\n",
    "    return file"
   ]
  },
  {
   "cell_type": "code",
   "execution_count": 382,
   "id": "f2dbe83c",
   "metadata": {},
   "outputs": [],
   "source": [
    "def delet(df, path):\n",
    "    rubish = load_file_utf8(path, '지우기 목록')\n",
    "    indice=[]\n",
    "    for rubish in rubish['사원'] :\n",
    "        index=df[df['사원']==rubish].index[0]\n",
    "        indice.append(index)\n",
    "    df=df.drop(indice)\n",
    "    return df"
   ]
  },
  {
   "cell_type": "code",
   "execution_count": 383,
   "id": "96da99ff",
   "metadata": {},
   "outputs": [],
   "source": [
    "def tem_employee(df, path):\n",
    "    tem = load_file_utf8(path, '계약직 목록')\n",
    "    for t in tem['사원'] :\n",
    "        # df[df['사원']==t]['직급'] = '계약직'\n",
    "        df.loc[(df['사원'] == t), '직급'] = '계약직'\n",
    "        df\n",
    "    return df"
   ]
  },
  {
   "cell_type": "code",
   "execution_count": 384,
   "id": "37f742ed",
   "metadata": {},
   "outputs": [],
   "source": [
    "def arrange_department(df, date, path) :\n",
    "    order_df = load_file_utf8(path, '직제순서')\n",
    "    order_df['시점']=pd.to_datetime(order_df['시점'], format='%Y-%m-%d')\n",
    "    order_df=order_df[order_df['시점']==date]\n",
    "    df_merge = pd.merge(order_df, df, left_on='부서', right_on='부서')\n",
    "    df_merge = df_merge.sort_values(by=['직제순서'])\n",
    "    df_merge=df_merge.drop(['시점', '직제순서'], axis=1)\n",
    "    return df_merge"
   ]
  },
  {
   "cell_type": "code",
   "execution_count": 385,
   "id": "f8818abc",
   "metadata": {},
   "outputs": [],
   "source": [
    "path = 'C:/Users/user/Desktop/직원 현황 테스트'\n",
    "df = delet(df, path)\n",
    "df = tem_employee(df, path)\n",
    "date = datetime.datetime(2021, 1, 1)\n",
    "df = arrange_department(df, date, path)"
   ]
  },
  {
   "cell_type": "code",
   "execution_count": null,
   "id": "43701a48",
   "metadata": {},
   "outputs": [],
   "source": []
  },
  {
   "cell_type": "code",
   "execution_count": 386,
   "id": "20038fc9",
   "metadata": {},
   "outputs": [],
   "source": [
    "# df 컬럼 순서 재배열\n",
    "df=df[['사원', '사번', '주민등록번호M', '성별', '나이', '부서', '직급', '직위', '직책', '사원구분',\n",
    "       '입사일', '현부서근무일', '현직급근무일', '현직책근무일', '주요 발령사항', '근무성적', '학사 정보', '주요 외부경력']]\n",
    "# df저장\n",
    "df.to_csv('C:/Users/user/Desktop/직원 현황 테스트/210715_인사종합정보.csv', encoding='cp949')"
   ]
  },
  {
   "cell_type": "code",
   "execution_count": null,
   "id": "7fcb7621",
   "metadata": {},
   "outputs": [],
   "source": []
  }
 ],
 "metadata": {
  "kernelspec": {
   "display_name": "Python 3",
   "language": "python",
   "name": "python3"
  },
  "language_info": {
   "codemirror_mode": {
    "name": "ipython",
    "version": 3
   },
   "file_extension": ".py",
   "mimetype": "text/x-python",
   "name": "python",
   "nbconvert_exporter": "python",
   "pygments_lexer": "ipython3",
   "version": "3.7.7"
  }
 },
 "nbformat": 4,
 "nbformat_minor": 5
}
